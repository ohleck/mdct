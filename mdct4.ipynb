{
 "cells": [
  {
   "cell_type": "markdown",
   "metadata": {
    "collapsed": true
   },
   "source": [
    "Implementation of MDCT\n",
    "===\n",
    "This implementation is modelled after http://www.ee.columbia.edu/~marios/mdct/mdct4.m.  By PvdS, 2015.\n",
    "\n",
    "The following comments are from the original author:\n",
    "\n",
    "MDCT4 Calculates the Modified Discrete Cosine Transform\n",
    "   y = mdct4(x)\n",
    "\n",
    "   Use either a Sine or a Kaiser-Bessel Derived window (KBDWin)with \n",
    "   50% overlap for perfect TDAC reconstruction.\n",
    "   Remember that MDCT coefs are symmetric: y(k)=-y(N-k-1) so the full\n",
    "   matrix (N) of coefs is: yf = [y;-flipud(y)];\n",
    "\n",
    "   x: input signal (can be either a column or frame per column)\n",
    "      length of x must be a integer multiple of 4 (each frame)     \n",
    "   y: MDCT of x (coefs are divided by sqrt(N))\n"
   ]
  },
  {
   "cell_type": "code",
   "execution_count": 46,
   "metadata": {
    "collapsed": true
   },
   "outputs": [],
   "source": [
    "import numpy as np"
   ]
  },
  {
   "cell_type": "markdown",
   "metadata": {},
   "source": [
    "Modified discrete cosine transform\n",
    "-----"
   ]
  },
  {
   "cell_type": "code",
   "execution_count": 48,
   "metadata": {
    "collapsed": false
   },
   "outputs": [],
   "source": [
    "def mdct4(x):\n",
    "    N = x.shape[0]\n",
    "    if N%4 != 0:\n",
    "        raise ValueError(\"MDCT4 only defined for vectors of length multiple of four.\")\n",
    "    M = N // 2\n",
    "    N4 = N // 4\n",
    "    \n",
    "    rot = np.roll(x, N4)\n",
    "    rot[:N4] = -rot[:N4]\n",
    "    t = np.arange(0, N4)\n",
    "    w = np.exp(-1j*2*np.pi*(t + 1./8.) / N)\n",
    "    c = np.take(rot,2*t) - np.take(rot, N-2*t-1) \\\n",
    "        - 1j * (np.take(rot, M+2*t) - np.take(rot,M-2*t-1))\n",
    "    c = (2./np.sqrt(N)) * w * np.fft.fft(0.5 * c * w, N4)\n",
    "    y = np.zeros(M)\n",
    "    y[2*t] = np.real(c[t])\n",
    "    y[M-2*t-1] = -np.imag(c[t])\n",
    "    return y"
   ]
  },
  {
   "cell_type": "markdown",
   "metadata": {},
   "source": [
    "Inverse modified discrete cosine transform\n",
    "-----"
   ]
  },
  {
   "cell_type": "code",
   "execution_count": 49,
   "metadata": {
    "collapsed": true
   },
   "outputs": [],
   "source": [
    "def imdct4(x):\n",
    "    N = x.shape[0]\n",
    "    if N%2 != 0:\n",
    "        raise ValueError(\"iMDCT4 only defined for even-length vectors.\")\n",
    "    M = N // 2\n",
    "    N2 = N*2\n",
    "    \n",
    "    t = np.arange(0,M)\n",
    "    w = np.exp(-1j*2*np.pi*(t + 1./8.) / N2)\n",
    "    c = np.take(x,2*t) + 1j * np.take(x,N-2*t-1)\n",
    "    c = 0.5 * w * c\n",
    "    c = np.fft.fft(c,M)\n",
    "    c = ((8 / np.sqrt(N2))*w)*c\n",
    "    \n",
    "    rot = np.zeros(N2)\n",
    "    \n",
    "    rot[2*t] = np.real(c[t])\n",
    "    rot[N+2*t] = np.imag(c[t])\n",
    "    \n",
    "    t = np.arange(1,N2,2)\n",
    "    rot[t] = -rot[N2-t-1]\n",
    "    \n",
    "    t = np.arange(0,3*M)\n",
    "    y = np.zeros(N2)\n",
    "    y[t] = rot[t+M]\n",
    "    t = np.arange(3*M,N2)\n",
    "    y[t] = -rot[t-3*M]\n",
    "    return y"
   ]
  },
  {
   "cell_type": "markdown",
   "metadata": {},
   "source": [
    "That's it.\n",
    "Now we run it on a sample \"data set\".  I used the above matlab implementation to test this again.  An asine test but it is one!"
   ]
  },
  {
   "cell_type": "code",
   "execution_count": 50,
   "metadata": {
    "collapsed": false
   },
   "outputs": [],
   "source": [
    "x = (np.arange(0.,24))"
   ]
  },
  {
   "cell_type": "code",
   "execution_count": 51,
   "metadata": {
    "collapsed": false
   },
   "outputs": [
    {
     "name": "stdout",
     "output_type": "stream",
     "text": [
      "[-42.21456861  -6.6485361    5.82530961   3.42205949  -3.18211836\n",
      "  -2.39265839   2.29194082   1.93832746  -1.8904262   -1.72703769\n",
      "   1.70703754   1.65870324]\n"
     ]
    }
   ],
   "source": [
    "y = mdct4(x)\n",
    "print(y)"
   ]
  },
  {
   "cell_type": "code",
   "execution_count": 52,
   "metadata": {
    "collapsed": false
   },
   "outputs": [
    {
     "name": "stdout",
     "output_type": "stream",
     "text": [
      "[-11.  -9.  -7.  -5.  -3.  -1.   1.   3.   5.   7.   9.  11.  35.  35.  35.\n",
      "  35.  35.  35.  35.  35.  35.  35.  35.  35.]\n"
     ]
    }
   ],
   "source": [
    "z = imdct4(y)\n",
    "print(z)"
   ]
  },
  {
   "cell_type": "markdown",
   "metadata": {},
   "source": [
    "THe following test is after https://github.com/stevengj/MDCT.jl, but that has a small error.  The idea of this test is, have two overlapping windows, do a forward then an inverse mdct, so that the errors cancel out.  The result of this test should be 0, within machine FP accuracy."
   ]
  },
  {
   "cell_type": "code",
   "execution_count": 53,
   "metadata": {
    "collapsed": false
   },
   "outputs": [
    {
     "name": "stdout",
     "output_type": "stream",
     "text": [
      "5.89830471537e-15\n"
     ]
    }
   ],
   "source": [
    "X = np.random.rand(1000)\n",
    "Y1 = mdct4(X[:100])\n",
    "Y2 = mdct4(X[50:150])\n",
    "Z1 = imdct4(Y1)\n",
    "Z2 = imdct4(Y2)\n",
    "print(np.linalg.norm(Z1[50:100] + Z2[:50] - 2*X[50:100])) # should be about 0"
   ]
  },
  {
   "cell_type": "code",
   "execution_count": null,
   "metadata": {
    "collapsed": true
   },
   "outputs": [],
   "source": []
  }
 ],
 "metadata": {
  "kernelspec": {
   "display_name": "Python 3",
   "language": "python",
   "name": "python3"
  },
  "language_info": {
   "codemirror_mode": {
    "name": "ipython",
    "version": 3
   },
   "file_extension": ".py",
   "mimetype": "text/x-python",
   "name": "python",
   "nbconvert_exporter": "python",
   "pygments_lexer": "ipython3",
   "version": "3.6.0"
  }
 },
 "nbformat": 4,
 "nbformat_minor": 0
}
